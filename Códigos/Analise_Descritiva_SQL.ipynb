{
 "cells": [
  {
   "cell_type": "code",
   "execution_count": 1,
   "id": "cc904dae",
   "metadata": {},
   "outputs": [
    {
     "ename": "InterfaceError",
     "evalue": "('28000', '[28000] [Microsoft][ODBC Driver 17 for SQL Server][SQL Server]Login failed for user \\'DESKTOP-U623P07\\\\Matt\\'. (18456) (SQLDriverConnect); [28000] [Microsoft][ODBC Driver 17 for SQL Server][SQL Server]Cannot open database \"AcademiaDW\" requested by the login. The login failed. (4060); [28000] [Microsoft][ODBC Driver 17 for SQL Server][SQL Server]Login failed for user \\'DESKTOP-U623P07\\\\Matt\\'. (18456); [28000] [Microsoft][ODBC Driver 17 for SQL Server][SQL Server]Cannot open database \"AcademiaDW\" requested by the login. The login failed. (4060)')",
     "output_type": "error",
     "traceback": [
      "\u001b[1;31m---------------------------------------------------------------------------\u001b[0m",
      "\u001b[1;31mInterfaceError\u001b[0m                            Traceback (most recent call last)",
      "Cell \u001b[1;32mIn[1], line 6\u001b[0m\n\u001b[0;32m      3\u001b[0m \u001b[38;5;28;01mimport\u001b[39;00m\u001b[38;5;250m \u001b[39m\u001b[38;5;21;01mwarnings\u001b[39;00m\n\u001b[0;32m      4\u001b[0m warnings\u001b[38;5;241m.\u001b[39mfilterwarnings(\u001b[38;5;124m\"\u001b[39m\u001b[38;5;124mignore\u001b[39m\u001b[38;5;124m\"\u001b[39m)\n\u001b[1;32m----> 6\u001b[0m conn \u001b[38;5;241m=\u001b[39m \u001b[43mpyodbc\u001b[49m\u001b[38;5;241;43m.\u001b[39;49m\u001b[43mconnect\u001b[49m\u001b[43m(\u001b[49m\n\u001b[0;32m      7\u001b[0m \u001b[43m    \u001b[49m\u001b[38;5;124;43mr\u001b[39;49m\u001b[38;5;124;43m'\u001b[39;49m\u001b[38;5;124;43mDRIVER=\u001b[39;49m\u001b[38;5;124;43m{\u001b[39;49m\u001b[38;5;124;43mODBC Driver 17 for SQL Server};\u001b[39;49m\u001b[38;5;124;43m'\u001b[39;49m\n\u001b[0;32m      8\u001b[0m \u001b[43m    \u001b[49m\u001b[38;5;124;43mr\u001b[39;49m\u001b[38;5;124;43m'\u001b[39;49m\u001b[38;5;124;43mSERVER=(localdb)\u001b[39;49m\u001b[38;5;124;43m\\\u001b[39;49m\u001b[38;5;124;43mMSSQLLocalDB;\u001b[39;49m\u001b[38;5;124;43m'\u001b[39;49m\n\u001b[0;32m      9\u001b[0m \u001b[43m    \u001b[49m\u001b[38;5;124;43mr\u001b[39;49m\u001b[38;5;124;43m'\u001b[39;49m\u001b[38;5;124;43mDATABASE=AcademiaDW;\u001b[39;49m\u001b[38;5;124;43m'\u001b[39;49m\n\u001b[0;32m     10\u001b[0m \u001b[43m    \u001b[49m\u001b[38;5;124;43mr\u001b[39;49m\u001b[38;5;124;43m'\u001b[39;49m\u001b[38;5;124;43mTrusted_Connection=yes;\u001b[39;49m\u001b[38;5;124;43m'\u001b[39;49m\n\u001b[0;32m     11\u001b[0m \u001b[43m)\u001b[49m\n",
      "\u001b[1;31mInterfaceError\u001b[0m: ('28000', '[28000] [Microsoft][ODBC Driver 17 for SQL Server][SQL Server]Login failed for user \\'DESKTOP-U623P07\\\\Matt\\'. (18456) (SQLDriverConnect); [28000] [Microsoft][ODBC Driver 17 for SQL Server][SQL Server]Cannot open database \"AcademiaDW\" requested by the login. The login failed. (4060); [28000] [Microsoft][ODBC Driver 17 for SQL Server][SQL Server]Login failed for user \\'DESKTOP-U623P07\\\\Matt\\'. (18456); [28000] [Microsoft][ODBC Driver 17 for SQL Server][SQL Server]Cannot open database \"AcademiaDW\" requested by the login. The login failed. (4060)')"
     ]
    }
   ],
   "source": [
    "import pyodbc\n",
    "import pandas as pd\n",
    "import warnings\n",
    "warnings.filterwarnings(\"ignore\")\n",
    "\n",
    "conn = pyodbc.connect(\n",
    "    r'DRIVER={ODBC Driver 17 for SQL Server};'\n",
    "    r'SERVER=(localdb)\\MSSQLLocalDB;'\n",
    "    r'DATABASE=AcademiaDW;'\n",
    "    r'Trusted_Connection=yes;'\n",
    ")\n"
   ]
  },
  {
   "cell_type": "code",
   "execution_count": null,
   "id": "c7e4e099",
   "metadata": {},
   "outputs": [],
   "source": [
    "#Formatação paras as colunas nas querys.\n",
    "def executar_query(sql, formatacoes=None):\n",
    "    df = pd.read_sql(sql, conn)\n",
    "\n",
    "    if formatacoes:\n",
    "        for col, tipo in formatacoes.items():\n",
    "            if col in df.columns:\n",
    "                if tipo == \"int\":\n",
    "                    df[col] = df[col].fillna(0).astype(int).map('{:,}'.format).str.replace(',', '.')\n",
    "                elif tipo == \"float\":\n",
    "                    df[col] = df[col].fillna(0).round(2).map(lambda x: f\"{x:,.2f}\".replace(\",\", \"X\").replace(\".\", \",\").replace(\"X\", \".\"))\n",
    "                elif tipo == \"money\":\n",
    "                    df[col] = df[col].fillna(0).round(2).map(lambda x: f\"R$ {x:,.2f}\".replace(\",\", \"X\").replace(\".\", \",\").replace(\"X\", \".\"))\n",
    "                elif tipo == \"decimal\":\n",
    "                    df[col] = df[col].fillna(0).round(4).map(lambda x: f\"{x:,.4f}\".replace(\",\", \"X\").replace(\".\", \",\").replace(\"X\", \".\"))\n",
    "                elif tipo == \"percent\":\n",
    "                    df[col] = df[col].fillna(0).round(2).map(lambda x: f\"{x:.2%}\".replace(\".\", \",\"))\n",
    "    return df\n"
   ]
  },
  {
   "cell_type": "code",
   "execution_count": null,
   "id": "7d5a8608",
   "metadata": {},
   "outputs": [
    {
     "name": "stdout",
     "output_type": "stream",
     "text": [
      "      status total_alunos\n",
      "0  Cancelado          645\n",
      "1      Ativo          689\n",
      "2    Inativo          666\n"
     ]
    }
   ],
   "source": [
    "sql_1 = \"\"\"\n",
    "SELECT status, COUNT(*) AS total_alunos\n",
    "FROM dim_usuario\n",
    "GROUP BY status;\n",
    "\"\"\"\n",
    "df_1 = executar_query(sql_1, {\"total_alunos\": \"int\"})\n",
    "print(df_1)"
   ]
  },
  {
   "cell_type": "code",
   "execution_count": null,
   "id": "780af511",
   "metadata": {},
   "outputs": [
    {
     "name": "stdout",
     "output_type": "stream",
     "text": [
      "  freq_media_semanal\n",
      "0               1,00\n"
     ]
    }
   ],
   "source": [
    "sql_2 = \"\"\"\n",
    "SELECT AVG(total_presencas) AS freq_media_semanal\n",
    "FROM fato_frequencia;\n",
    "\"\"\"\n",
    "df_2 = executar_query(sql_2, {\"freq_media_semanal\": \"float\"})\n",
    "print(df_2)\n"
   ]
  },
  {
   "cell_type": "code",
   "execution_count": null,
   "id": "f0d98ec4",
   "metadata": {},
   "outputs": [
    {
     "name": "stdout",
     "output_type": "stream",
     "text": [
      "   semanas_presentes qtd_alunos\n",
      "0                 24          1\n",
      "1                 23          1\n",
      "2                 22          3\n",
      "3                 21          1\n",
      "4                 20          6\n",
      "5                 19         13\n",
      "6                 18         14\n",
      "7                 17         27\n",
      "8                 16         54\n",
      "9                 15         79\n",
      "10                14        126\n",
      "11                13        163\n",
      "12                12        210\n",
      "13                11        250\n",
      "14                10        249\n",
      "15                 9        238\n",
      "16                 8        209\n",
      "17                 7        154\n",
      "18                 6        106\n",
      "19                 5         54\n",
      "20                 4         30\n",
      "21                 3          6\n",
      "22                 2          5\n",
      "23                 1          1\n"
     ]
    }
   ],
   "source": [
    "sql_3 = \"\"\"\n",
    "SELECT semanas_presentes, COUNT(id_usuario) AS qtd_alunos\n",
    "FROM fato_final_aluno\n",
    "GROUP BY semanas_presentes\n",
    "ORDER BY semanas_presentes DESC;\n",
    "\"\"\"\n",
    "df_3 = executar_query(sql_3, {\"semanas_presentes\": \"int\", \"qtd_alunos\": \"int\"})\n",
    "print(df_3)\n"
   ]
  },
  {
   "cell_type": "code",
   "execution_count": null,
   "id": "901f0bca",
   "metadata": {},
   "outputs": [
    {
     "name": "stdout",
     "output_type": "stream",
     "text": [
      "  id_usuario media_nota\n",
      "0         54       5,00\n",
      "1        108       5,00\n",
      "2        179       5,00\n",
      "3        350       5,00\n",
      "4        464       5,00\n",
      "5        735       5,00\n",
      "6        886       5,00\n",
      "7        964       5,00\n",
      "8        968       5,00\n",
      "9      1.196       5,00\n"
     ]
    }
   ],
   "source": [
    "sql_4 = \"\"\"\n",
    "SELECT id_usuario, media_nota\n",
    "FROM fato_final_aluno\n",
    "ORDER BY media_nota DESC;\n",
    "\"\"\"\n",
    "df_4 = executar_query(sql_4, {\"id_usuario\": \"int\", \"media_nota\": \"float\"})\n",
    "print(df_4.head(10))\n"
   ]
  },
  {
   "cell_type": "code",
   "execution_count": null,
   "id": "03c732aa",
   "metadata": {},
   "outputs": [
    {
     "name": "stdout",
     "output_type": "stream",
     "text": [
      "  id_usuario perda_peso\n",
      "0      1.793      68,50\n",
      "1        356      68,30\n",
      "2        572      66,80\n",
      "3      1.940      66,40\n",
      "4      1.398      66,00\n",
      "5        253      65,50\n",
      "6      1.078      65,00\n",
      "7        138      63,90\n",
      "8      1.241      63,80\n",
      "9        707      63,50\n"
     ]
    }
   ],
   "source": [
    "sql_5 = \"\"\"\n",
    "SELECT id_usuario, perda_peso\n",
    "FROM fato_final_aluno\n",
    "ORDER BY perda_peso DESC\n",
    "OFFSET 0 ROWS FETCH NEXT 10 ROWS ONLY;\n",
    "\"\"\"\n",
    "df_5 = executar_query(sql_5, {\"id_usuario\": \"int\", \"perda_peso\": \"float\"})\n",
    "print(df_5)\n"
   ]
  },
  {
   "cell_type": "code",
   "execution_count": null,
   "id": "93fa3df5",
   "metadata": {},
   "outputs": [
    {
     "name": "stdout",
     "output_type": "stream",
     "text": [
      "  faixa_idade ganho_medio_forca\n",
      "0       18-25              0,50\n",
      "1       26-35             -4,59\n",
      "2       36-45             10,38\n",
      "3       46-55             -1,27\n",
      "4         56+              5,14\n"
     ]
    }
   ],
   "source": [
    "sql_6 = \"\"\"\n",
    "SELECT\n",
    "  CASE \n",
    "    WHEN idade BETWEEN 18 AND 25 THEN '18-25'\n",
    "    WHEN idade BETWEEN 26 AND 35 THEN '26-35'\n",
    "    WHEN idade BETWEEN 36 AND 45 THEN '36-45'\n",
    "    WHEN idade BETWEEN 46 AND 55 THEN '46-55'\n",
    "    ELSE '56+' \n",
    "  END AS faixa_idade,\n",
    "  AVG(ganho_forca) AS ganho_medio_forca\n",
    "FROM fato_final_aluno\n",
    "GROUP BY \n",
    "  CASE \n",
    "    WHEN idade BETWEEN 18 AND 25 THEN '18-25'\n",
    "    WHEN idade BETWEEN 26 AND 35 THEN '26-35'\n",
    "    WHEN idade BETWEEN 36 AND 45 THEN '36-45'\n",
    "    WHEN idade BETWEEN 46 AND 55 THEN '46-55'\n",
    "    ELSE '56+' \n",
    "  END\n",
    "ORDER BY faixa_idade;\n",
    "\"\"\"\n",
    "df_6 = executar_query(sql_6, {\"ganho_medio_forca\": \"float\"})\n",
    "print(df_6)\n"
   ]
  },
  {
   "cell_type": "code",
   "execution_count": null,
   "id": "185f3c76",
   "metadata": {},
   "outputs": [
    {
     "name": "stdout",
     "output_type": "stream",
     "text": [
      "    mes_ano alunos_evasao total_alunos taxa_evasao\n",
      "0   2022-07            34           55      0,6182\n",
      "1   2022-08            56          100      0,5600\n",
      "2   2022-09            52           82      0,6341\n",
      "3   2022-10            41           71      0,5775\n",
      "4   2022-11            46           70      0,6571\n",
      "5   2022-12            53           84      0,6310\n",
      "6   2023-01            54           82      0,6585\n",
      "7   2023-02            47           80      0,5875\n",
      "8   2023-03            37           53      0,6981\n",
      "9   2023-04            53           78      0,6795\n",
      "10  2023-05            67           92      0,7283\n",
      "11  2023-06            49           84      0,5833\n",
      "12  2023-07            67           89      0,7528\n",
      "13  2023-08            56           81      0,6914\n",
      "14  2023-09            61           82      0,7439\n",
      "15  2023-10            49           75      0,6533\n",
      "16  2023-11            51           78      0,6538\n",
      "17  2023-12            75          106      0,7075\n",
      "18  2024-01            55           80      0,6875\n",
      "19  2024-02            50           82      0,6098\n",
      "20  2024-03            59           90      0,6556\n",
      "21  2024-04            57           83      0,6867\n",
      "22  2024-05            57           86      0,6628\n",
      "23  2024-06            69          109      0,6330\n",
      "24  2024-07            16           28      0,5714\n"
     ]
    }
   ],
   "source": [
    "sql_7 = \"\"\"\n",
    "SELECT FORMAT(data_inicio, 'yyyy-MM') AS mes_ano,\n",
    "       COUNT(CASE WHEN status IN ('Inativo', 'Cancelado') THEN 1 END) AS alunos_evasao,\n",
    "       COUNT(*) AS total_alunos,\n",
    "       CAST(COUNT(CASE WHEN status IN ('Inativo', 'Cancelado') THEN 1 END) * 1.0 / COUNT(*) AS DECIMAL(5,4)) AS taxa_evasao\n",
    "FROM dim_usuario\n",
    "GROUP BY FORMAT(data_inicio, 'yyyy-MM')\n",
    "ORDER BY mes_ano;\n",
    "\"\"\"\n",
    "df_7 = executar_query(sql_7, {\"alunos_evasao\": \"int\", \"total_alunos\": \"int\", \"taxa_evasao\": \"decimal\"})\n",
    "print(df_7)\n"
   ]
  },
  {
   "cell_type": "code",
   "execution_count": null,
   "id": "a29f34ee",
   "metadata": {},
   "outputs": [
    {
     "name": "stdout",
     "output_type": "stream",
     "text": [
      "  id_usuario total_feedbacks\n",
      "0      1.587              15\n",
      "1      1.924              15\n",
      "2        316              14\n",
      "3        397              14\n",
      "4      1.953              14\n",
      "5      1.998              14\n",
      "6         70              13\n",
      "7        202              13\n",
      "8        278              13\n",
      "9        463              13\n"
     ]
    }
   ],
   "source": [
    "sql_8 = \"\"\"\n",
    "SELECT id_usuario, total_feedbacks\n",
    "FROM fato_final_aluno\n",
    "ORDER BY total_feedbacks DESC\n",
    "OFFSET 0 ROWS FETCH NEXT 10 ROWS ONLY;\n",
    "\"\"\"\n",
    "df_8 = executar_query(sql_8, {\"id_usuario\": \"int\", \"total_feedbacks\": \"int\"})\n",
    "print(df_8)\n"
   ]
  },
  {
   "cell_type": "code",
   "execution_count": null,
   "id": "60367079",
   "metadata": {},
   "outputs": [
    {
     "name": "stdout",
     "output_type": "stream",
     "text": [
      "   semanas_presentes media_feedback\n",
      "0                 24           2,88\n",
      "1                 23           3,11\n",
      "2                 22           2,26\n",
      "3                 21           2,75\n",
      "4                 20           3,02\n",
      "5                 19           3,18\n",
      "6                 18           3,43\n",
      "7                 17           3,23\n",
      "8                 16           2,88\n",
      "9                 15           3,14\n",
      "10                14           3,03\n",
      "11                13           3,06\n",
      "12                12           2,91\n",
      "13                11           3,00\n",
      "14                10           2,95\n",
      "15                 9           2,98\n",
      "16                 8           3,02\n",
      "17                 7           2,98\n",
      "18                 6           2,94\n",
      "19                 5           2,98\n",
      "20                 4           2,90\n",
      "21                 3           2,90\n",
      "22                 2           2,55\n",
      "23                 1           1,83\n"
     ]
    }
   ],
   "source": [
    "sql_9 = \"\"\"\n",
    "SELECT semanas_presentes, AVG(media_nota) AS media_feedback\n",
    "FROM fato_final_aluno\n",
    "GROUP BY semanas_presentes\n",
    "ORDER BY semanas_presentes DESC;\n",
    "\"\"\"\n",
    "df_9 = executar_query(sql_9, {\"semanas_presentes\": \"int\", \"media_feedback\": \"float\"})\n",
    "print(df_9)\n"
   ]
  },
  {
   "cell_type": "code",
   "execution_count": null,
   "id": "899dcf46",
   "metadata": {},
   "outputs": [
    {
     "name": "stdout",
     "output_type": "stream",
     "text": [
      "      genero media_perda_peso\n",
      "0   Feminino             0,81\n",
      "1  Masculino            -0,34\n"
     ]
    }
   ],
   "source": [
    "sql_10 = \"\"\"\n",
    "SELECT genero, AVG(perda_peso) AS media_perda_peso\n",
    "FROM fato_final_aluno\n",
    "GROUP BY genero;\n",
    "\"\"\"\n",
    "df_10 = executar_query(sql_10, {\"media_perda_peso\": \"float\"})\n",
    "print(df_10)\n"
   ]
  },
  {
   "cell_type": "code",
   "execution_count": null,
   "id": "89b924b7",
   "metadata": {},
   "outputs": [
    {
     "name": "stdout",
     "output_type": "stream",
     "text": [
      "      status media_ganho_forca\n",
      "0  Cancelado              0,10\n",
      "1      Ativo             -4,06\n",
      "2    Inativo             10,68\n"
     ]
    }
   ],
   "source": [
    "sql_11 = \"\"\"\n",
    "SELECT status, AVG(ganho_forca) AS media_ganho_forca\n",
    "FROM fato_final_aluno\n",
    "GROUP BY status;\n",
    "\"\"\"\n",
    "df_11 = executar_query(sql_11, {\"media_ganho_forca\": \"float\"})\n",
    "print(df_11)\n"
   ]
  },
  {
   "cell_type": "code",
   "execution_count": null,
   "id": "761d5733",
   "metadata": {},
   "outputs": [
    {
     "name": "stdout",
     "output_type": "stream",
     "text": [
      "  percentual_aderencia_alta\n",
      "0                     47,40\n"
     ]
    }
   ],
   "source": [
    "sql_12 = \"\"\"\n",
    "SELECT \n",
    "    CAST(SUM(CASE WHEN semanas_presentes > 10 THEN 1 ELSE 0 END) * 100.0 / COUNT(*) AS DECIMAL(5,2)) AS percentual_aderencia_alta\n",
    "FROM fato_final_aluno;\n",
    "\"\"\"\n",
    "df_12 = executar_query(sql_12, {\"percentual_aderencia_alta\": \"float\"})\n",
    "print(df_12)\n"
   ]
  },
  {
   "cell_type": "code",
   "execution_count": null,
   "id": "a031638b",
   "metadata": {},
   "outputs": [],
   "source": []
  }
 ],
 "metadata": {
  "kernelspec": {
   "display_name": "Python 3",
   "language": "python",
   "name": "python3"
  },
  "language_info": {
   "codemirror_mode": {
    "name": "ipython",
    "version": 3
   },
   "file_extension": ".py",
   "mimetype": "text/x-python",
   "name": "python",
   "nbconvert_exporter": "python",
   "pygments_lexer": "ipython3",
   "version": "3.13.2"
  }
 },
 "nbformat": 4,
 "nbformat_minor": 5
}
