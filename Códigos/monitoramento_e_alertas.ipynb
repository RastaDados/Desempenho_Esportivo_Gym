{
 "cells": [
  {
   "cell_type": "code",
   "execution_count": null,
   "id": "d9642b99",
   "metadata": {},
   "outputs": [
    {
     "name": "stdout",
     "output_type": "stream",
     "text": [
      "onitoramento finalizado. 2981 alunos com alertas.\n",
      "Arquivo salvo em: dados_alertas/alertas_20250716.csv\n"
     ]
    }
   ],
   "source": [
    "import pyodbc\n",
    "import pandas as pd\n",
    "import os\n",
    "from datetime import datetime\n",
    "import warnings\n",
    "warnings.filterwarnings(\"ignore\")\n",
    "\n",
    "#Conectando ao SQL Server localmente (via autenticação do Windows)\n",
    "conn = pyodbc.connect(\n",
    "    r'DRIVER={ODBC Driver 17 for SQL Server};'\n",
    "    r'SERVER=(localdb)\\MSSQLLocalDB;'\n",
    "    r'DATABASE=AcademiaDW;'\n",
    "    r'Trusted_Connection=yes;'\n",
    ")\n",
    "\n",
    "#Criando a pasta dados_alertas \n",
    "os.makedirs(\"dados_alertas\", exist_ok=True)\n",
    "\n",
    "\n",
    "#Alunos com ausência maior que 14 dias\n",
    "query_ausencia = \"\"\"\n",
    "SELECT id_usuario, nome, ultima_frequencia,\n",
    "       DATEDIFF(DAY, ultima_frequencia, GETDATE()) AS dias_sem_comparecimento\n",
    "FROM fato_final_aluno\n",
    "WHERE DATEDIFF(DAY, ultima_frequencia, GETDATE()) > 14;\n",
    "\"\"\"\n",
    "\n",
    "df_ausencia = pd.read_sql(query_ausencia, conn)\n",
    "df_ausencia[\"tipo_alerta\"] = \"Ausência Maior Que 14 dias\"\n",
    "\n",
    "\n",
    "#Alunos com feedback médio abaixo de 3\n",
    "query_feedback = \"\"\"\n",
    "SELECT id_usuario, nome, media_nota\n",
    "FROM fato_final_aluno\n",
    "WHERE media_nota < 3;\n",
    "\"\"\"\n",
    "\n",
    "df_feedback = pd.read_sql(query_feedback, conn)\n",
    "df_feedback[\"tipo_alerta\"] = \"Feedback Menor Que 3\"\n",
    "\n",
    "\n",
    "#Alunos que estão sem avaliação há mais de 180 dias\n",
    "query_avaliacao = \"\"\"\n",
    "SELECT id_usuario, nome, MAX(ultima_avaliacao) AS ultima_avaliacao\n",
    "FROM fato_final_aluno\n",
    "GROUP BY id_usuario, nome\n",
    "HAVING DATEDIFF(DAY, MAX(ultima_avaliacao), GETDATE()) > 180;\n",
    "\"\"\"\n",
    "\n",
    "df_avaliacao = pd.read_sql(query_avaliacao, conn)\n",
    "df_avaliacao[\"tipo_alerta\"] = \"Avaliação física Maior Que 6 meses\"\n",
    "\n",
    "\n",
    "#Juntar todos os alertas criados\n",
    "df_alertas = pd.concat([\n",
    "    df_ausencia[[\"id_usuario\", \"nome\", \"tipo_alerta\"]],\n",
    "    df_feedback[[\"id_usuario\", \"nome\", \"tipo_alerta\"]],\n",
    "    df_avaliacao[[\"id_usuario\", \"nome\", \"tipo_alerta\"]]\n",
    "]).drop_duplicates()\n",
    "\n",
    "\n",
    "#Exportar como relatório\n",
    "hoje = datetime.today().strftime('%Y%m%d')\n",
    "caminho_alerta = f\"dados_alertas/alertas_{hoje}.csv\"\n",
    "df_alertas.to_csv(caminho_alerta, index=False, encoding=\"utf-8-sig\")\n",
    "\n",
    "#Se tudo der certo, vai retornar:\n",
    "print(f\"onitoramento finalizado. {len(df_alertas)} alunos com alertas.\")\n",
    "print(f\"Arquivo salvo em: {caminho_alerta}\")\n"
   ]
  }
 ],
 "metadata": {
  "kernelspec": {
   "display_name": "Python 3",
   "language": "python",
   "name": "python3"
  },
  "language_info": {
   "codemirror_mode": {
    "name": "ipython",
    "version": 3
   },
   "file_extension": ".py",
   "mimetype": "text/x-python",
   "name": "python",
   "nbconvert_exporter": "python",
   "pygments_lexer": "ipython3",
   "version": "3.12.3"
  }
 },
 "nbformat": 4,
 "nbformat_minor": 5
}
