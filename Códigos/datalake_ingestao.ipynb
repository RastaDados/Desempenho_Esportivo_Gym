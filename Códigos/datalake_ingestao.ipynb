{
 "cells": [
  {
   "cell_type": "code",
   "execution_count": null,
   "id": "cd2f6701",
   "metadata": {},
   "outputs": [
    {
     "name": "stdout",
     "output_type": "stream",
     "text": [
      "Processo Concluído.\n"
     ]
    }
   ],
   "source": [
    "from pymongo import MongoClient\n",
    "import pandas as pd\n",
    "import os\n",
    "\n",
    "#Especificando o Caminho dos dados\n",
    "caminho_dados = \"dados\"\n",
    "\n",
    "#Conectando ao MongoDB (Data Lake)\n",
    "client = MongoClient(\"mongodb://localhost:27017/\")\n",
    "db = client[\"academia_raw\"]\n",
    "\n",
    "#Criando uma função para inserir os dados CSV em uma coleção\n",
    "def carregar_csv_para_mongo(nome_arquivo, nome_colecao):\n",
    "    caminho_arquivo = os.path.join(caminho_dados, nome_arquivo)\n",
    "    df = pd.read_csv(caminho_arquivo)\n",
    "\n",
    "    #Convertendo o DF para um dicionário\n",
    "    dados = df.to_dict(orient=\"records\")\n",
    "\n",
    "    # nserindo os dados no MongoDB\n",
    "    db[nome_colecao].drop()  # limpa a coleção caso já exista\n",
    "    db[nome_colecao].insert_many(dados)\n",
    "\n",
    "#Lista de arquivos e coleções inseridos\n",
    "arquivos_colecoes = {\n",
    "    \"usuarios.csv\": \"usuarios\",\n",
    "    \"treinos.csv\": \"treinos\",\n",
    "    \"presencas.csv\": \"presencas\",\n",
    "    \"feedbacks.csv\": \"feedbacks\",\n",
    "    \"avaliacoes_fisicas.csv\": \"avaliacoes_fisicas\",\n",
    "    \"dim_tempo.csv\": \"dim_tempo\",\n",
    "    \"logs_maquinas.csv\": \"logs_maquinas\",\n",
    "    \"dim_treino.csv\": \"dim_treino\",\n",
    "    \"dim_instrutor.csv\": \"dim_instrutor\"\n",
    "}\n",
    "\n",
    "#Inserindo todos os arquivos no MongoDB\n",
    "for arquivo, colecao in arquivos_colecoes.items():\n",
    "    carregar_csv_para_mongo(arquivo, colecao)\n",
    "\n",
    "#Se tudo der certo, retorna:\n",
    "print(\"Processo Concluído.\")\n"
   ]
  }
 ],
 "metadata": {
  "kernelspec": {
   "display_name": "Python 3",
   "language": "python",
   "name": "python3"
  },
  "language_info": {
   "codemirror_mode": {
    "name": "ipython",
    "version": 3
   },
   "file_extension": ".py",
   "mimetype": "text/x-python",
   "name": "python",
   "nbconvert_exporter": "python",
   "pygments_lexer": "ipython3",
   "version": "3.12.3"
  }
 },
 "nbformat": 4,
 "nbformat_minor": 5
}
